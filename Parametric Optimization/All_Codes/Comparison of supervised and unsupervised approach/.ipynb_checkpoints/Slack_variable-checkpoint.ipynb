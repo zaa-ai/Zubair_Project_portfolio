{
 "cells": [
  {
   "cell_type": "markdown",
   "id": "b6570734",
   "metadata": {},
   "source": [
    "# Slack variables"
   ]
  },
  {
   "cell_type": "code",
   "execution_count": null,
   "id": "adca0d7c",
   "metadata": {},
   "outputs": [],
   "source": [
    "%run Data.ipynb import ab,xyz\n",
    "import tensorflow as tf\n",
    "import numpy as np\n",
    "from tensorflow import keras\n",
    "import time\n",
    "import random"
   ]
  },
  {
   "cell_type": "code",
   "execution_count": null,
   "id": "70d85091",
   "metadata": {},
   "outputs": [],
   "source": [
    "slack_1_list = []\n",
    "slack_2_list = []\n",
    "\n",
    "for i in range(len(xyz)):\n",
    "    v = -1*(xyz[i,0]*xyz[i,1] + xyz[i,0]*xyz[i,2] + xyz[i,1]*xyz[i,2] -ab[i,0]) \n",
    "    slack_1_list.append(v)\n",
    "        \n",
    "\n",
    "for i in range(len(xyz)):\n",
    "    u = -1*(xyz[i,1]**ab[i,1] -xyz[i,0]) # ab how?\n",
    "    slack_2_list.append(u)\n",
    "            \n",
    "slack_1 = np.array(slack_1_list).reshape(-1,1)\n",
    "slack_2 = np.array(slack_2_list).reshape(-1,1)\n",
    "\n",
    "xyzuv = np.concatenate((xyz,slack_1,slack_2), axis=1)\n",
    "ab_train,ab_valid,xyzuv_train,xyzuv_valid = train_test_split(ab,xyzuv)\n"
   ]
  },
  {
   "cell_type": "code",
   "execution_count": null,
   "id": "9f0b9c21",
   "metadata": {},
   "outputs": [],
   "source": [
    "def penalty_fn(xyz,slack_1,slack_2):\n",
    "    result = 1/(xyz[:,0]*xyz[:,1]*xyz[:,2]) + -1*tf.nn.relu(slack_1) + -1*tf.nn.relu(slack_2)"
   ]
  },
  {
   "cell_type": "code",
   "execution_count": null,
   "id": "c4c670b4",
   "metadata": {},
   "outputs": [],
   "source": [
    "model = keras.Sequential(name='slack_NN')\n",
    "model.add(keras.layers.Input(shape=2,))\n",
    "model.add(keras.layers.Dense(units=900, activation='relu', name='1st_hidden'))\n",
    "model.add(keras.layers.Dense(units=500, activation='relu', name='2nd_hidden'))\n",
    "model.add(keras.layers.Dense(units=5, activation='exponential', name='output'))\n",
    "\n",
    "model.compile(optimizer=tf.keras.optimizers.Adamax(learning_rate=0.0001), loss=[penalty_fn], metrics= [keras.metrics.Accuracy()])"
   ]
  },
  {
   "cell_type": "code",
   "execution_count": null,
   "id": "00491a01",
   "metadata": {},
   "outputs": [],
   "source": [
    "train_loss_results = []\n",
    "\n",
    "num_epochs = 10\n",
    "\n",
    "def loss(model,ab):\n",
    "    xyzuv_pred = model(ab)\n",
    "    return penalty_fn(xyzuv_pred,slack_1,slack_2)\n",
    "\n",
    "def grad(model,ab,xyzuv):\n",
    "    with tf.GradientTape() as tape:\n",
    "        loss_value = loss(model,ab)\n",
    "    return loss_value, tape.gradient(loss_value,model.trainable_variables)\n",
    "\n",
    "@tf.function\n",
    "def train_step(ab, xyzuv_pred_uns):\n",
    "    loss_value,grads = grad(model,ab_train,xyzuv_pred_uns)\n",
    "    opt.apply_gradients(zip(grads, model.trainable_variables))\n",
    "    return loss_value\n",
    "\n",
    "def chunks(lst,n):\n",
    "    chunked_lst = []\n",
    "    for i in range(0, len(lst),n):\n",
    "        chunked_lst.append(lst[i:i+n])\n",
    "    return chunked_lst\n",
    "\n",
    "ab_train_chunks = chunks(ab_train,50)\n",
    "before_train = time.process_time()\n",
    "opt = tf.keras.optimizers.Adam(learning_rate=0.0001)\n",
    "\n",
    "for epoch in range(num_epochs):\n",
    "    epoch_start = time.process_time()\n",
    "    epoch_loss_avg = tf.keras.metrics.Mean()\n",
    "    rand_chunk = random.randint(0, len(ab_train_chunks)-1)\n",
    "    for ab in ab_train_chunks[rand_chunk]:\n",
    "        ab = ab.reshape(1,2)\n",
    "        xyzuv_pred_uns = model(ab)\n",
    "        loss_value = train_step(ab,xyzuv_pred_uns)\n",
    "        epoch_loss_avg.update_state(loss_value)\n",
    "        \n",
    "    train_loss_results.append(epoch_loss)   \n",
    "    print('Epoch {}: loss: {}'.format(epoch,epoch_loss_avg.result()))\n",
    "    \n",
    "train_time = time.process_time() - before_train\n",
    "print('{:.2f}s for training'.format(train_time))\n",
    "print('average of {:.2f}s per epoch'.format(train_time/num_epochs))\n"
   ]
  },
  {
   "cell_type": "code",
   "execution_count": null,
   "id": "da5b56a3",
   "metadata": {},
   "outputs": [],
   "source": [
    "xyzuv_pred = model.predict(ab_valid)"
   ]
  }
 ],
 "metadata": {
  "kernelspec": {
   "display_name": "Python 3 (ipykernel)",
   "language": "python",
   "name": "python3"
  },
  "language_info": {
   "codemirror_mode": {
    "name": "ipython",
    "version": 3
   },
   "file_extension": ".py",
   "mimetype": "text/x-python",
   "name": "python",
   "nbconvert_exporter": "python",
   "pygments_lexer": "ipython3",
   "version": "3.9.16"
  }
 },
 "nbformat": 4,
 "nbformat_minor": 5
}
