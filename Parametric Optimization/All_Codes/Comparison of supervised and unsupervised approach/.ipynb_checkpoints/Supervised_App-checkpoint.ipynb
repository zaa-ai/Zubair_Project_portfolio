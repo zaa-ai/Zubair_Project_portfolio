{
 "cells": [
  {
   "cell_type": "markdown",
   "id": "d5c7c4de",
   "metadata": {},
   "source": [
    "# Supervised Approach"
   ]
  },
  {
   "cell_type": "markdown",
   "id": "1f7be8c0",
   "metadata": {},
   "source": [
    " In this part of the project, neural networks are created with labeled datas.\n",
    " \n",
    " First start with the importing necessary libraries."
   ]
  },
  {
   "cell_type": "code",
   "execution_count": null,
   "id": "2e61f6dc",
   "metadata": {},
   "outputs": [],
   "source": [
    "import tensorflow as tf\n",
    "from tensorflow import keras\n",
    "\n",
    "import matplotlib.pyplot as plt\n",
    "import seaborn as sb\n",
    "%run Data.ipynb import ab_train,ab_valid,xyz_train,xyz_valid"
   ]
  },
  {
   "cell_type": "markdown",
   "id": "a6ed0880",
   "metadata": {},
   "source": [
    "Initialize the model first."
   ]
  },
  {
   "cell_type": "code",
   "execution_count": null,
   "id": "9476ad04",
   "metadata": {},
   "outputs": [],
   "source": [
    "model = keras.Sequential(name = 'Supervised_NN')\n",
    "\n",
    "model.add(keras.layers.Input(shape = (ab_train.shape[1],), name='Input_layer'))\n",
    "model.add(keras.layers.Dense(units=900, activation = 'relu', name='1st_hidden', activity_regularizer=tf.keras.regularizers.L2(0.001)))\n",
    "model.add(keras.layers.Dense(units=500, activation = 'relu', name='2nd_hidden', activity_regularizer=tf.keras.regularizers.L2(0.001)))\n",
    "model.add(keras.layers.Dense(units=3, name='output', activation = 'exponential', activity_regularizer=tf.keras.regularizers.L2(0.001)))\n",
    "\n",
    "model.compile(optimizer= tf.keras.optimizers.Adamax(learning_rate=0.0001),loss=tf.keras.losses.MSE, metrics=[keras.metrics.Accuracy()])\n"
   ]
  },
  {
   "cell_type": "markdown",
   "id": "13ef05c3",
   "metadata": {},
   "source": [
    "Train the model"
   ]
  },
  {
   "cell_type": "code",
   "execution_count": null,
   "id": "f68c56f0",
   "metadata": {},
   "outputs": [],
   "source": [
    "history = model.fit(ab_train,xyz_train,epochs=100,validation_data=(ab_valid,xyz_valid))"
   ]
  },
  {
   "cell_type": "markdown",
   "id": "4483c348",
   "metadata": {},
   "source": [
    "Predict some values with validation data"
   ]
  },
  {
   "cell_type": "code",
   "execution_count": null,
   "id": "0ff95389",
   "metadata": {},
   "outputs": [],
   "source": [
    "xyz_pred_sup = model.predict(ab_valid)\n",
    "\n",
    "#save model?\n",
    "#model.save('model_Sup')\n"
   ]
  },
  {
   "cell_type": "markdown",
   "id": "8530d039",
   "metadata": {},
   "source": [
    "Visualize training efficiency."
   ]
  },
  {
   "cell_type": "code",
   "execution_count": null,
   "id": "6e5e3fef",
   "metadata": {},
   "outputs": [],
   "source": [
    "fig = plt.figure()\n",
    "fig.set_figheight(50)\n",
    "fig.set_figwidth(100)\n",
    "\n",
    "ax1 = plt.subplot2grid(shape=(7,5), loc=(0,0), colspan=1)\n",
    "ax1.semilogy(history.history['loss'], label='Training efficiency')\n",
    "ax1.legend()\n",
    "ax1.set_xlabel('epochs [-]')\n",
    "ax1.set_ylabel('loss [-]')\n",
    "\n"
   ]
  },
  {
   "cell_type": "markdown",
   "id": "ab2f9714",
   "metadata": {},
   "source": [
    "Visualize the predicted results with valid data."
   ]
  },
  {
   "cell_type": "code",
   "execution_count": null,
   "id": "e27f4baa",
   "metadata": {},
   "outputs": [],
   "source": [
    "fig = plt.figure()\n",
    "fig.set_figheight(50)\n",
    "fig.set_figwidth(100)\n",
    "\n",
    "ax1 = plt.subplot2grid(shape=(7,5), loc=(0,0),colspan=1)\n",
    "ax1 = sb.regplot(x = xyz_pred_sup[:,0], y=xyz_valid[:,0])\n",
    "ax1.set(xlabel= 'x_pred [-]', ylabel = 'x_val [-]', xlim= (0), title = 'x_val over x_pred (supervised)')\n",
    "\n",
    "ax2 = plt.subplot2grid(shape=(7,5), loc=(1,0),colspan=1)\n",
    "ax2 = sb.regplot(x = xyz_pred_sup[:,1], y=xyz_valid[:,1])\n",
    "ax2.set(xlabel= 'y_pred [-]', ylabel = 'y_val [-]', xlim = (0), title = 'y_val over y_pred (supervised)')\n",
    "\n",
    "ax3 = plt.subplot2grid(shape=(7,5), loc=(2,0),colspan=1)\n",
    "ax3 = sb.regplot(x = xyz_pred_sup[:,2], y=xyz_valid[:,2])\n",
    "ax3.set(xlabel= 'z_pred [-]', ylabel = 'z_val [-]', xlim = (0), title = 'z_val over z_pred (supervised)')\n"
   ]
  },
  {
   "cell_type": "code",
   "execution_count": null,
   "id": "bc04c18c",
   "metadata": {},
   "outputs": [],
   "source": []
  }
 ],
 "metadata": {
  "kernelspec": {
   "display_name": "Python 3 (ipykernel)",
   "language": "python",
   "name": "python3"
  },
  "language_info": {
   "codemirror_mode": {
    "name": "ipython",
    "version": 3
   },
   "file_extension": ".py",
   "mimetype": "text/x-python",
   "name": "python",
   "nbconvert_exporter": "python",
   "pygments_lexer": "ipython3",
   "version": "3.9.16"
  }
 },
 "nbformat": 4,
 "nbformat_minor": 5
}
